{
 "cells": [
  {
   "cell_type": "markdown",
   "metadata": {},
   "source": [
    "# The Markowitz Problem\n",
    "\n",
    "Portfolio selection addresses how one should construct a portfolio of financial assets which have an uncertain return. Typically, this is modelled as an optimization problem which aims to find some trade-off between maximizing the expected profit of a portfolio and minizing its riskiness.\n",
    "\n",
    "The Markowitz problem was the first such model of portfolio selection and aims to minimize the variance of the return of the portfolio subject to guarenteeing some level of expected return. Specifically, if we have $n$ assets, let $R_i$ represent the random return of the $i$-th asset for $i=1,\\ldots, n$, let $\\tau$ represent the target expected return and $x_i$ represent how much we invest in asset $i$ for $i=1,\\ldots,n$.\n",
    "\n",
    "The Markowitz problem is as follows:\n",
    "\n",
    "$\\min_{x}\\ \\mathrm{Var}(x^T R)$\n",
    "\n",
    "subject to\n",
    "\n",
    "$\\mathbb{E}{x^T R} \\geq \\tau$\n",
    "\n",
    "$\\sum_{i=1}^n x_i = 1$\n",
    "\n",
    "$x \\geq 0$"
   ]
  },
  {
   "cell_type": "markdown",
   "metadata": {},
   "source": [
    "Basic probability theory tells us that this can be rewritten as follows:\n",
    "\n",
    "$\\min_x x^T \\Sigma x$\n",
    "\n",
    "subject to \n",
    "\n",
    "$x^t \\mu \\geq \\tau$\n",
    "\n",
    "$\\sum_{i=1}^n x_i = 1$\n",
    "\n",
    "$x \\geq 0$\n",
    "\n",
    "where $\\mu = \\mathbb{E}[R]$ and $\\Sigma = \\mathrm{Cov}(R)$. That is, the Markowitz problem is a quadratic program which depends only on the mean and covariances of the asset returns."
   ]
  },
  {
   "cell_type": "markdown",
   "metadata": {},
   "source": [
    "# Exercises\n",
    "\n",
    "1) For some values of $\\mu$, $\\Sigma$ and $\\tau$, use JuMP to formulate and solve the Markowitz problem.\n",
    "\n",
    "It is often not clear what is the best target return $\\tau$ to specify in our optimization problem. If this is the case, then one might solve the problem for many different values of $\\tau$. Rather than reconstruct the model entirely for each new value of $\\tau$ JuMP allows one to modify the value of a model and resolve the problem more quickly using a \"warm-start\".\n",
    "\n",
    "2) Rewrite the above JuMP so that the $\\tau$ paramater is declared as a variable whose value is fixed. i.e. `@variable(m, \\tau == ...)`\n",
    "\n",
    "3) The value of a fixed variable can be changed using `setvalue(\\tau, val)`. Use this to solve the model for every value in the following linear range `linspace(0.95*minimum(μ), 0.95*maximum(μ), 100)`. For each value of $\\tau$ store the expected return and the variance of the return.\n",
    "\n",
    "4) Plot the optimal variances against the expected return. This gives you the efficient frontier for the problem"
   ]
  },
  {
   "cell_type": "markdown",
   "metadata": {
    "collapsed": true
   },
   "source": [
    "Note that although JuMP always allows one to modify a model in the above fashion, to take advantage of warm-starts one needs to use a solver which supports this feature, for example Gurobi."
   ]
  }
 ],
 "metadata": {
  "kernelspec": {
   "display_name": "Julia 0.4.2",
   "language": "julia",
   "name": "julia-0.4"
  },
  "language_info": {
   "file_extension": ".jl",
   "mimetype": "application/julia",
   "name": "julia",
   "version": "0.4.2"
  }
 },
 "nbformat": 4,
 "nbformat_minor": 0
}
