{
 "cells": [
  {
   "cell_type": "markdown",
   "metadata": {
    "collapsed": true
   },
   "source": [
    "# K Partition Problem\n",
    "\n",
    "The $k$ partition problem is an important problem in combinatorial optimization. The problem is defined on an undirected graph whose edges are weighted, and the aim is to partition the nodes into $k$ or fewer clusters in a way which minimizes the total weights of edges in the same cluster. See slides 6-9 in the \"optim_software.pdf\" document in this directory for the full problem statement."
   ]
  },
  {
   "cell_type": "markdown",
   "metadata": {},
   "source": [
    "The aim of this exercise is to implement and solve this problem for complete graphs."
   ]
  },
  {
   "cell_type": "markdown",
   "metadata": {},
   "source": [
    "# Exercises\n",
    "1) Write a function which generates a random symmetric matrix with non-negative values. This rows and columns of this matrix correspond to nodes in our graph, and the elements in the matrix the weights of the edges. These matrices can be used as input to solve the k-pp problem in the following exercises."
   ]
  },
  {
   "cell_type": "code",
   "execution_count": null,
   "metadata": {
    "collapsed": true
   },
   "outputs": [],
   "source": []
  },
  {
   "cell_type": "markdown",
   "metadata": {},
   "source": [
    "2) Implement the exact k-PP problem and solve for some small instances. How big can be problem get before it becomes computational ?ntractable."
   ]
  },
  {
   "cell_type": "code",
   "execution_count": null,
   "metadata": {
    "collapsed": true
   },
   "outputs": [],
   "source": []
  },
  {
   "cell_type": "markdown",
   "metadata": {},
   "source": [
    "The k-partition problem is $\\mathcal{NP}$-hard and can only be solved for small instances. This motivates the study of relaxations which provide lower bounds on the optimal solution value. \n",
    "\n",
    "The continuous relaxation of an integer program is the problem where all integer variables are allowed to be continuous."
   ]
  },
  {
   "cell_type": "markdown",
   "metadata": {},
   "source": [
    "3) By rewriting the model, or using the function `setcategory(x::Variable, v_type::Symbol)` to make the variables continuous, solve some continuous relaxations of this problem. Are the bounds given by this relaxation useful? Here `v_type` should be set to `:Cont`."
   ]
  },
  {
   "cell_type": "markdown",
   "metadata": {},
   "source": [
    "4) Slides 17-18 present one other possible relaxation for this problem. Implement and solve some larger instances using this SDP relaxation."
   ]
  }
 ],
 "metadata": {
  "kernelspec": {
   "display_name": "Julia 0.4.2",
   "language": "julia",
   "name": "julia-0.4"
  },
  "language_info": {
   "file_extension": ".jl",
   "mimetype": "application/julia",
   "name": "julia",
   "version": "0.4.2"
  }
 },
 "nbformat": 4,
 "nbformat_minor": 0
}
