{
 "cells": [
  {
   "cell_type": "markdown",
   "metadata": {
    "slideshow": {
     "slide_type": "slide"
    }
   },
   "source": [
    "# Optimization in Julia\n",
    "\n",
    "<img src=\"julia_opt_logo.svg\" alt=\"Drawing\" style=\"width: 100px;\"/>"
   ]
  },
  {
   "cell_type": "markdown",
   "metadata": {
    "slideshow": {
     "slide_type": "slide"
    }
   },
   "source": [
    "# JuliaOpt - Overview\n",
    "<img src=\"julia_opt.svg\" alt=\"Drawing\" style=\"width: 750px;\"/>"
   ]
  },
  {
   "cell_type": "markdown",
   "metadata": {
    "slideshow": {
     "slide_type": "slide"
    }
   },
   "source": [
    "# Optim.jl"
   ]
  },
  {
   "cell_type": "markdown",
   "metadata": {},
   "source": [
    "The Optim package provides functions for solving unconstrained/box-constrained optimization problems.\n",
    "\n",
    "We use the Rosenbrock function to demonstrate some of its capabilities."
   ]
  },
  {
   "cell_type": "code",
   "execution_count": null,
   "metadata": {
    "collapsed": false
   },
   "outputs": [],
   "source": [
    "using Optim\n",
    "\n",
    "function f(x::Vector)\n",
    "    return (1.0 - x[1])^2 + 100.0 * (x[2] - x[1]^2)^2\n",
    "end"
   ]
  },
  {
   "cell_type": "code",
   "execution_count": null,
   "metadata": {
    "collapsed": false
   },
   "outputs": [],
   "source": [
    "using Gadfly\n",
    "plot(z=(x,y)->f([x,y]), \n",
    "     x=linspace(-0.3, 0.3, 100), y=linspace(-0.3,0.3,100), Geom.contour)"
   ]
  },
  {
   "cell_type": "markdown",
   "metadata": {
    "slideshow": {
     "slide_type": "slide"
    }
   },
   "source": [
    "The optimize function can be used to find the minimum of Rosenbrock:"
   ]
  },
  {
   "cell_type": "code",
   "execution_count": null,
   "metadata": {
    "collapsed": false
   },
   "outputs": [],
   "source": [
    "start = [0.0, 0.0]\n",
    "optimize(f, start)"
   ]
  },
  {
   "cell_type": "markdown",
   "metadata": {
    "slideshow": {
     "slide_type": "slide"
    }
   },
   "source": [
    "The algorithm used to minimize can be optionally specified:"
   ]
  },
  {
   "cell_type": "code",
   "execution_count": null,
   "metadata": {
    "collapsed": false
   },
   "outputs": [],
   "source": [
    "res = optimize(f, [0.0, 0.0], NelderMead())"
   ]
  },
  {
   "cell_type": "markdown",
   "metadata": {},
   "source": [
    "Other algorithms include: `BFGS()`, `LBFGS()`, `SimulatedAnnealing()`, `ConjugateGradient()`, `GradientDescent()`, `AcceleratedGradientDescent()`"
   ]
  },
  {
   "cell_type": "markdown",
   "metadata": {
    "slideshow": {
     "slide_type": "slide"
    }
   },
   "source": [
    "# Optimization Options\n",
    "\n",
    "Options are are placed in a special object with can be passed to `optimize`\n"
   ]
  },
  {
   "cell_type": "code",
   "execution_count": null,
   "metadata": {
    "collapsed": false
   },
   "outputs": [],
   "source": [
    "options = OptimizationOptions(g_tol = 1e-12, iterations = 5, store_trace = true, show_trace = true)\n",
    "res = optimize(f, [0.0, 0.0], NelderMead(), options)"
   ]
  },
  {
   "cell_type": "markdown",
   "metadata": {
    "slideshow": {
     "slide_type": "slide"
    }
   },
   "source": [
    "# Accessing results\n",
    "\n",
    "Optim provides several functions for querying the output from an algorithm.\n"
   ]
  },
  {
   "cell_type": "code",
   "execution_count": null,
   "metadata": {
    "collapsed": false
   },
   "outputs": [],
   "source": [
    "Optim.minimum(res), Optim.minimizer(res)"
   ]
  },
  {
   "cell_type": "markdown",
   "metadata": {},
   "source": [
    "Other functions include: `Optim.x_trace(res)`, `Optim.f_trace(res)`, `Optim.f_calls(res)`, `Optim.converged(res)`"
   ]
  },
  {
   "cell_type": "markdown",
   "metadata": {
    "slideshow": {
     "slide_type": "subslide"
    }
   },
   "source": [
    "# Including Gradient Information"
   ]
  },
  {
   "cell_type": "code",
   "execution_count": null,
   "metadata": {
    "collapsed": false
   },
   "outputs": [],
   "source": [
    "function g!(x::Vector, storage::Vector)\n",
    "    storage[1] = -2.0 * (1.0 - x[1]) - 400.0 * (x[2] - x[1]^2) * x[1]\n",
    "    storage[2] = 200.0 * (x[2] - x[1]^2)\n",
    "end\n",
    "\n",
    "function h!(x::Vector, storage::Matrix)\n",
    "    storage[1, 1] = 2.0 - 400.0 * x[2] + 1200.0 * x[1]^2\n",
    "    storage[1, 2] = -400.0 * x[1]\n",
    "    storage[2, 1] = -400.0 * x[1]\n",
    "    storage[2, 2] = 200.0\n",
    "end"
   ]
  },
  {
   "cell_type": "code",
   "execution_count": null,
   "metadata": {
    "collapsed": false
   },
   "outputs": [],
   "source": [
    "optimize(f, g!, h!, [0.0, 0.0], Newton())"
   ]
  },
  {
   "cell_type": "markdown",
   "metadata": {},
   "source": [
    "See the Github page for more details on this package: https://github.com/JuliaOpt/Optim.jl"
   ]
  },
  {
   "cell_type": "markdown",
   "metadata": {
    "slideshow": {
     "slide_type": "slide"
    }
   },
   "source": [
    "# JuMP.jl\n",
    "JuMP (Julia Mathematical Programming) is a modelling package for constrained optimization."
   ]
  },
  {
   "cell_type": "code",
   "execution_count": null,
   "metadata": {
    "collapsed": false
   },
   "outputs": [],
   "source": [
    "using JuMP\n",
    "\n",
    "m = Model()\n",
    "@variable(m, 0 <= x <= 2 )\n",
    "@variable(m, 0 <= y <= 30 )\n",
    "\n",
    "@objective(m, Max, 5x + 3*y )\n",
    "@constraint(m, 1x + 5y <= 3.0 )\n",
    "\n",
    "print(m)"
   ]
  },
  {
   "cell_type": "code",
   "execution_count": null,
   "metadata": {
    "collapsed": false,
    "slideshow": {
     "slide_type": "subslide"
    }
   },
   "outputs": [],
   "source": [
    "status = solve(m)\n",
    "\n",
    "println(\"Objective value: \", getobjectivevalue(m))\n",
    "println(\"x = \", getvalue(x))\n",
    "println(\"y = \", getvalue(y))"
   ]
  },
  {
   "cell_type": "markdown",
   "metadata": {
    "slideshow": {
     "slide_type": "subslide"
    }
   },
   "source": [
    "# Model Creation\n",
    "\n",
    "The first step in implementing an optimization problem is to construct a model object."
   ]
  },
  {
   "cell_type": "code",
   "execution_count": null,
   "metadata": {
    "collapsed": false
   },
   "outputs": [],
   "source": [
    "m = Model();"
   ]
  },
  {
   "cell_type": "markdown",
   "metadata": {},
   "source": [
    "Optionally, one can specify a specific solver. Solver customization options such as maximum iterations are set in the construction of the solver object."
   ]
  },
  {
   "cell_type": "code",
   "execution_count": null,
   "metadata": {
    "collapsed": false
   },
   "outputs": [],
   "source": [
    "using Clp\n",
    "\n",
    "m = Model(solver=ClpSolver(MaximumIterations=100));"
   ]
  },
  {
   "cell_type": "markdown",
   "metadata": {
    "slideshow": {
     "slide_type": "subslide"
    }
   },
   "source": [
    "# Available Interfaces\n",
    "To solve a problem, JuMP must use\n",
    "\n",
    "<table style=\"text-align: center; margin-top: 20px\" width=\"100%\">\n",
    "  <thead>\n",
    "    <tr>\n",
    "      <th width=\"23%\"><strong>Modeling Tool</strong></th>\n",
    "      <th width=\"9%\">LP</th>\n",
    "      <th width=\"9%\">MILP</th>\n",
    "      <th width=\"9%\">SOCP</th>\n",
    "      <th width=\"9%\">MISOCP</th>\n",
    "      <th width=\"9%\">SDP</th>\n",
    "      <th width=\"9%\">NLP</th>\n",
    "      <th width=\"9%\">MINLP</th>\n",
    "      <th>Other</th>\n",
    "    </tr>\n",
    "  </thead>\n",
    "\n",
    "  <tfoot> <!-- Must appear before tbody, see W3.org -->\n",
    "    <tr style=\"text-align: left\">\n",
    "      <td colspan=\"10\">\n",
    "        <small>\n",
    "  <strong>Key:</strong>\n",
    "  <ul style=\"list-style: none; margin-top: 5px; margin-bottom: 5px\">\n",
    "          <li style=\"margin: 0.1em 0;\">LP = <a href=\"http://en.wikipedia.org/wiki/Linear_programming\">Linear Programming</a></li>\n",
    "          <li style=\"margin: 0.1em 0;\">MILP = <a href=\"http://en.wikipedia.org/wiki/Integer_programming\">Mixed Integer LP</a></li>\n",
    "          <li style=\"margin: 0.1em 0;\">SOCP = <a href=\"http://en.wikipedia.org/wiki/Second_order_cone_programming\">Second-order cone programming</a> (includes convex <a href=\"http://en.wikipedia.org/wiki/Quadratic_programming\">QP</a>, <a href=\"http://en.wikipedia.org/wiki/Quadratically_constrained_quadratic_program\">QCQP</a>)</li>\n",
    "          <li style=\"margin: 0.1em 0;\">MISOCP = Mixed Integer SOCP</li>\n",
    "          <li style=\"margin: 0.1em 0;\">SDP = <a href=\"http://en.wikipedia.org/wiki/Semidefinite_programming\">Semidefinite Programming</a></li>\n",
    "          <li style=\"margin: 0.1em 0;\">NLP = (constrained) <a href=\"http://en.wikipedia.org/wiki/Nonlinear_programming\">Nonlinear Programming</a> (includes general <a href=\"http://en.wikipedia.org/wiki/Quadratic_programming\">QP</a>, <a href=\"http://en.wikipedia.org/wiki/Quadratically_constrained_quadratic_program\">QCQP</a>)</li>\n",
    "          <li style=\"margin: 0.1em 0;\">MINLP = Mixed Integer NLP</li>\n",
    "        </ul>\n",
    "        <strong>Notes:</strong>\n",
    "        <ol style=\"\">\n",
    "          <li>Problem must be convex.</li>\n",
    "        </ol>\n",
    "  </small>\n",
    "      </td>\n",
    "    </tr>\n",
    "  </tfoot>\n",
    "\n",
    "  <tbody>\n",
    "    <tr>\n",
    "      <th><a href=\"https://github.com/JuliaOpt/JuMP.jl\">JuMP</a></th>\n",
    "      <td>&#10004;</td> <!-- LP -->\n",
    "      <td>&#10004;</td> <!-- MILP -->\n",
    "      <td>&#10004;</td> <!-- SOCP -->\n",
    "      <td>&#10004;</td> <!-- MISOCP -->\n",
    "      <td>&#10004;</td> <!-- SDP -->\n",
    "      <td>&#10004;</td> <!-- NLP -->\n",
    "      <td>&#10004;</td> <!-- MINLP -->\n",
    "      <td></td> <!-- Other -->\n",
    "    </tr>\n",
    "\n",
    "    <tr>\n",
    "      <th><a href=\"https://github.com/cvxgrp/Convex.jl\">Convex.jl</a></th>\n",
    "      <td>&#10004;</td> <!-- LP -->\n",
    "      <td>&#10004;</td> <!-- MILP -->\n",
    "      <td>&#10004;</td> <!-- SOCP -->\n",
    "      <td>&#10004;</td> <!-- MISOCP -->\n",
    "      <td>&#10004;</td> <!-- SDP -->\n",
    "      <td></td> <!-- NLP -->\n",
    "      <td></td> <!-- MINLP -->\n",
    "      <td></td> <!-- Other -->\n",
    "    </tr>\n",
    "\n",
    "    <thead>\n",
    "      <tr>\n",
    "        <th><strong>Solver</strong></th>\n",
    "        <th>LP</th>\n",
    "        <th>MILP</th>\n",
    "        <th>SOCP</th>\n",
    "        <th>MISOCP</th>\n",
    "        <th>SDP</th>\n",
    "        <th>NLP</th>\n",
    "        <th>MINLP</th>\n",
    "        <th>Other</th>\n",
    "      </tr>\n",
    "    </thead>\n",
    "    \n",
    "    <tr>\n",
    "      <th>\n",
    "        <a href=\"https://projects.coin-or.org/Bonmin\">Bonmin</a>\n",
    "        <a href=\"https://github.com/JuliaOpt/AmplNLWriter.jl\">(via AmplNLWriter.jl)</a>\n",
    "      </th>\n",
    "\n",
    "      <td>&#10004;</td> <!-- LP -->\n",
    "      <td>&#10004;</td> <!-- MILP -->\n",
    "      <td></td> <!-- SOCP -->\n",
    "      <td></td> <!-- MISOCP -->\n",
    "      <td></td> <!-- SDP -->\n",
    "      <td>&#10004;</td> <!-- NLP -->\n",
    "      <td>&#10004;</td> <!-- MINLP -->\n",
    "      <td></td> <!-- Other -->\n",
    "    </tr>\n",
    "    \n",
    "    <tr>\n",
    "      <th>\n",
    "        <a href=\"https://projects.coin-or.org/Cbc\">Cbc</a>\n",
    "        <a href=\"https://github.com/JuliaOpt/Cbc.jl\">(.jl)</a>\n",
    "      </th>\n",
    "\n",
    "      <td>&#10004;</td> <!-- LP -->\n",
    "      <td>&#10004;</td> <!-- MILP -->\n",
    "      <td></td> <!-- SOCP -->\n",
    "      <td></td> <!-- MISOCP -->\n",
    "      <td></td> <!-- SDP -->\n",
    "      <td></td> <!-- NLP -->\n",
    "      <td></td> <!-- MINLP -->\n",
    "      <td></td> <!-- Other -->\n",
    "    </tr>\n",
    "\n",
    "    <tr>\n",
    "      <th>\n",
    "        <a href=\"https://projects.coin-or.org/Clp\">Clp</a>\n",
    "        <a href=\"https://github.com/JuliaOpt/Clp.jl\">(.jl)</a>\n",
    "      </th>\n",
    "\n",
    "      <td>&#10004;</td> <!-- LP -->\n",
    "      <td></td> <!-- MILP -->\n",
    "      <td></td> <!-- SOCP -->\n",
    "      <td></td> <!-- MISOCP -->\n",
    "      <td></td> <!-- SDP -->\n",
    "      <td></td> <!-- NLP -->\n",
    "      <td></td> <!-- MINLP -->\n",
    "      <td></td> <!-- Other -->\n",
    "    </tr>\n",
    "\n",
    "    <tr>\n",
    "      <th>\n",
    "        <a href=\"https://projects.coin-or.org/Couenne\">Couenne</a>\n",
    "        <a href=\"https://github.com/JuliaOpt/AmplNLWriter.jl\">(via AmplNLWriter.jl)</a>\n",
    "      </th>\n",
    "\n",
    "      <td>&#10004;</td> <!-- LP -->\n",
    "      <td>&#10004;</td> <!-- MILP -->\n",
    "      <td></td> <!-- SOCP -->\n",
    "      <td></td> <!-- MISOCP -->\n",
    "      <td></td> <!-- SDP -->\n",
    "      <td>&#10004;</td> <!-- NLP -->\n",
    "      <td>&#10004;</td> <!-- MINLP -->\n",
    "      <td></td> <!-- Other -->\n",
    "    </tr>\n",
    "    \n",
    "    <tr>\n",
    "      <th>\n",
    "        <a href=\"http://www-01.ibm.com/software/commerce/optimization/cplex-optimizer/\">CPLEX</a> \n",
    "        <a href=\"https://github.com/JuliaOpt/CPLEX.jl\">(.jl)</a>\n",
    "      </th>\n",
    "      <!--<td><a href=\"https://github.com/JuliaOpt/CPLEX.jl\">CPLEX.jl</a></td>-->\n",
    "      <td>&#10004;</td> <!-- LP -->\n",
    "      <td>&#10004;</td> <!-- MILP -->\n",
    "      <td>&#10004;</td> <!-- SOCP -->\n",
    "      <td>&#10004;</td> <!-- MISOCP -->\n",
    "      <td></td> <!-- SDP -->\n",
    "      <td></td> <!-- NLP -->\n",
    "      <td></td> <!-- MINLP -->\n",
    "      <td><small>IP Callbacks</small></td> <!-- Other -->\n",
    "    </tr>\n",
    "    \n",
    "    <tr>\n",
    "      <th>\n",
    "        <a href=\"https://github.com/ifa-ethz/ecos/\">ECOS</a>\n",
    "        <a href=\"https://github.com/JuliaOpt/ECOS.jl\">(.jl)</a>\n",
    "      </th>\n",
    "      <!--<td><a href=\"https://github.com/JuliaOpt/ECOS.jl\">ECOS.jl</a></td>-->\n",
    "      <td>&#10004;</td> <!-- LP -->\n",
    "      <td></td> <!-- MILP -->\n",
    "      <td>&#10004;</td> <!-- SOCP -->\n",
    "      <td></td> <!-- MISOCP -->\n",
    "      <td></td> <!-- SDP -->\n",
    "      <td></td> <!-- NLP -->\n",
    "      <td></td> <!-- MINLP -->\n",
    "      <td></td> <!-- Other -->\n",
    "    </tr>\n",
    "    \n",
    "    <tr>\n",
    "      <th>\n",
    "        <a href=\"http://www.gnu.org/software/glpk/\">GLPK</a>\n",
    "        <a href=\"https://github.com/JuliaOpt/GLPK.jl\">(.jl)</a>\n",
    "      </th>\n",
    "      <!--<td><a href=\"https://github.com/JuliaOpt/GLPK.jl\">GLPK.jl</a></td>-->\n",
    "      <td>&#10004;</td> <!-- LP -->\n",
    "      <td>&#10004;</td> <!-- MILP -->\n",
    "      <td></td> <!-- SOCP -->\n",
    "      <td></td> <!-- MISOCP -->\n",
    "      <td></td> <!-- SDP -->\n",
    "      <td></td> <!-- NLP -->\n",
    "      <td></td> <!-- MINLP -->\n",
    "      <td><small>IP Callbacks</small></td> <!-- Other -->\n",
    "    </tr>\n",
    "\n",
    "    <tr>\n",
    "      <th>\n",
    "        <a href=\"http://www.gurobi.com\">Gurobi</a>\n",
    "        <a href=\"https://github.com/JuliaOpt/Gurobi.jl\">(.jl)</a>\n",
    "      </th>\n",
    "      <!--<td><a href=\"https://github.com/JuliaOpt/Gurobi.jl\">Gurobi.jl</a></td>-->\n",
    "      <td>&#10004;</td> <!-- LP -->\n",
    "      <td>&#10004;</td> <!-- MILP -->\n",
    "      <td>&#10004;</td> <!-- SOCP -->\n",
    "      <td>&#10004;</td> <!-- MISOCP -->\n",
    "      <td></td> <!-- SDP -->\n",
    "      <td></td> <!-- NLP -->\n",
    "      <td></td> <!-- MINLP -->\n",
    "      <td><small>IP Callbacks</small></td> <!-- Other -->\n",
    "    </tr>\n",
    "\n",
    "    <tr>\n",
    "      <th>\n",
    "        <a href=\"https://projects.coin-or.org/Ipopt\">Ipopt</a>\n",
    "        <a href=\"https://github.com/JuliaOpt/Ipopt.jl\">(.jl)</a>\n",
    "      </th>\n",
    "      <!--<td><a href=\"https://github.com/JuliaOpt/Ipopt.jl\">Ipopt.jl</a></td>-->\n",
    "      <td>&#10004;</td> <!-- LP -->\n",
    "      <td></td> <!-- MILP -->\n",
    "      <td></td> <!-- SOCP -->\n",
    "      <td></td> <!-- MISOCP -->\n",
    "      <td></td> <!-- SDP -->\n",
    "      <td>&#10004;</td> <!-- NLP -->\n",
    "      <td></td> <!-- MINLP -->\n",
    "      <td></td> <!-- Other -->\n",
    "    </tr>\n",
    "    \n",
    "    <tr>\n",
    "      <th>\n",
    "        <a href=\"http://artelys.com/en/optimization-tools/knitro\">Artelys Knitro</a>\n",
    "        <a href=\"https://github.com/JuliaOpt/KNITRO.jl\">(.jl)</a>\n",
    "      </th>\n",
    "      <!--<td><a href=\"https://github.com/JuliaOpt/KNITRO.jl/\">KNITRO.jl</a></td>-->\n",
    "      <td>&#10004;</td> <!-- LP -->\n",
    "      <td>&#10004;</td></td> <!-- MILP -->\n",
    "      <td></td> <!-- SOCP -->\n",
    "      <td></td> <!-- MISOCP -->\n",
    "      <td></td> <!-- SDP -->\n",
    "      <td>&#10004;</td> <!-- NLP -->\n",
    "      <td>&#10004;</td></td> <!-- MINLP -->\n",
    "      <td></td> <!-- Other -->\n",
    "    </tr>\n",
    "    \n",
    "    <tr>\n",
    "      <th>\n",
    "        <a href=\"http://www.mosek.com/\">Mosek</a>\n",
    "        <a href=\"https://github.com/JuliaOpt/Mosek.jl\">(.jl)</a>\n",
    "      </th>\n",
    "      <!--<td><a href=\"https://github.com/JuliaOpt/Mosek.jl\">Mosek.jl</a></td>-->\n",
    "      <td>&#10004;</td> <!-- LP -->\n",
    "      <td>&#10004;</td> <!-- MILP -->\n",
    "      <td>&#10004;</td> <!-- SOCP -->\n",
    "      <td>&#10004;</td> <!-- MISOCP -->\n",
    "      <td>&#10004;</td> <!-- SDP -->\n",
    "      <td>&#10004;<small>1</small></td> <!-- NLP -->\n",
    "      <td></td> <!-- MINLP -->\n",
    "      <td></td> <!-- Other -->\n",
    "    </tr>\n",
    "\n",
    "    <tr>\n",
    "      <th>\n",
    "        <a href=\"http://ab-initio.mit.edu/nlopt\">NLopt</a>\n",
    "        <a href=\"https://github.com/JuliaOpt/NLopt.jl\">(.jl)</a>\n",
    "      </th>\n",
    "      <!--<td><a href=\"https://github.com/JuliaOpt/NLopt.jl\">NLopt.jl</a></td>-->\n",
    "      <td></td> <!-- LP -->\n",
    "      <td></td> <!-- MILP -->\n",
    "      <td></td> <!-- SOCP -->\n",
    "      <td></td> <!-- MISOCP -->\n",
    "      <td></td> <!-- SDP -->\n",
    "      <td>&#10004;</td> <!-- NLP -->\n",
    "      <td></td> <!-- MINLP -->\n",
    "      <td></td> <!-- Other -->\n",
    "    </tr>\n",
    "    \n",
    "    <tr>\n",
    "      <th>\n",
    "        <a href=\"https://github.com/cvxgrp/scs\">SCS</a>\n",
    "        <a href=\"https://github.com/JuliaOpt/SCS.jl\">(.jl)</a>\n",
    "      </th>\n",
    "      <!--<td><a href=\"https://github.com/JuliaOpt/NLopt.jl\">NLopt.jl</a></td>-->\n",
    "      <td>&#10004;</td> <!-- LP -->\n",
    "      <td></td> <!-- MILP -->\n",
    "      <td>&#10004;</td> <!-- SOCP -->\n",
    "      <td></td> <!-- MISOCP -->\n",
    "      <td>&#10004;</td> <!-- SDP -->\n",
    "      <td></td> <!-- NLP -->\n",
    "      <td></td> <!-- MINLP -->\n",
    "      <td></td> <!-- Other -->\n",
    "    </tr>\n",
    "\n",
    "  </tbody>\n",
    "</table>\n"
   ]
  },
  {
   "cell_type": "markdown",
   "metadata": {
    "slideshow": {
     "slide_type": "subslide"
    }
   },
   "source": [
    "# Variables\n",
    "\n",
    "Variables can be created individually or in blocks, and optionally with bounds. Variables, and all other problem elements are associated with a model object."
   ]
  },
  {
   "cell_type": "code",
   "execution_count": null,
   "metadata": {
    "collapsed": false
   },
   "outputs": [],
   "source": [
    "@variable(m, 0 <= x[i=1:5] <= 1)"
   ]
  },
  {
   "cell_type": "code",
   "execution_count": null,
   "metadata": {
    "collapsed": false
   },
   "outputs": [],
   "source": [
    "@variable(m, y[i=1:5, j=1:10], Bin)"
   ]
  },
  {
   "cell_type": "markdown",
   "metadata": {},
   "source": [
    "Variables over multiple indices can also be created using conditions. This is useful if you do not need to create variables over every combination of indices. For example, if you are modelling a problem on a sparse graph, you do not need to index over every pair of vertices to index over the edge set."
   ]
  },
  {
   "cell_type": "code",
   "execution_count": null,
   "metadata": {
    "collapsed": false
   },
   "outputs": [],
   "source": [
    "@variable(m, z[i=1:10,j=1:10; isodd(i+j)] >= 0)"
   ]
  },
  {
   "cell_type": "markdown",
   "metadata": {
    "slideshow": {
     "slide_type": "subslide"
    }
   },
   "source": [
    "# Expressions\n",
    "\n"
   ]
  },
  {
   "cell_type": "markdown",
   "metadata": {},
   "source": [
    "Constraints and Objective functions are made up of expressions. Expressions can be constructed in variety of ways."
   ]
  },
  {
   "cell_type": "code",
   "execution_count": null,
   "metadata": {
    "collapsed": false
   },
   "outputs": [],
   "source": [
    "expr = x[1] + 3 * y[1,2]"
   ]
  },
  {
   "cell_type": "markdown",
   "metadata": {},
   "source": [
    "The `sum` syntax is providing for convenient summing over index sets. This can be used with the expression macro."
   ]
  },
  {
   "cell_type": "code",
   "execution_count": null,
   "metadata": {
    "collapsed": false
   },
   "outputs": [],
   "source": [
    "@expression(m, expr2, sum{x[i] + y[i,1], i=1:5})"
   ]
  },
  {
   "cell_type": "code",
   "execution_count": null,
   "metadata": {
    "collapsed": false,
    "slideshow": {
     "slide_type": "subslide"
    }
   },
   "outputs": [],
   "source": [
    "A = rand(5,5)\n",
    "A*x # Creates an array of expressions"
   ]
  },
  {
   "cell_type": "code",
   "execution_count": null,
   "metadata": {
    "collapsed": false,
    "slideshow": {
     "slide_type": "-"
    }
   },
   "outputs": [],
   "source": [
    "Σ=A'A\n",
    "x'Σ*x # Array of Expressions (of length 1)\n",
    "dot(x, Σ*x) # Expression"
   ]
  },
  {
   "cell_type": "markdown",
   "metadata": {
    "slideshow": {
     "slide_type": "subslide"
    }
   },
   "source": [
    "# Constraints\n",
    "\n",
    "Constraints can be constructed by combining expressions with the operators `<=`, `>=` and `==`."
   ]
  },
  {
   "cell_type": "code",
   "execution_count": null,
   "metadata": {
    "collapsed": false
   },
   "outputs": [],
   "source": [
    "@constraint(m, expr <=2)"
   ]
  },
  {
   "cell_type": "markdown",
   "metadata": {},
   "source": [
    "An additional argument can be included in the `@constraint` macro to a reference to the constraint object."
   ]
  },
  {
   "cell_type": "code",
   "execution_count": null,
   "metadata": {
    "collapsed": false
   },
   "outputs": [],
   "source": [
    "expr4= dot(Σ*x, x)\n",
    "@constraint(m, cons2, expr4 <= 5.0)"
   ]
  },
  {
   "cell_type": "code",
   "execution_count": null,
   "metadata": {
    "collapsed": false
   },
   "outputs": [],
   "source": [
    "@constraint(m, cons_set[j=1:10], sum{y[i, j], i=1:5} <= 4)\n",
    "cons_set"
   ]
  },
  {
   "cell_type": "markdown",
   "metadata": {
    "slideshow": {
     "slide_type": "slide"
    }
   },
   "source": [
    "# Objective Function\n"
   ]
  },
  {
   "cell_type": "code",
   "execution_count": null,
   "metadata": {
    "collapsed": false
   },
   "outputs": [],
   "source": [
    "@objective(m, Min, sum{y[i,j], i=1:5,j=1:10})"
   ]
  },
  {
   "cell_type": "markdown",
   "metadata": {
    "slideshow": {
     "slide_type": "slide"
    }
   },
   "source": [
    "# Conic Models\n",
    "\n",
    "Second order cone constraints can be declared using the `norm2` symbol in the constraints macro:"
   ]
  },
  {
   "cell_type": "code",
   "execution_count": null,
   "metadata": {
    "collapsed": false
   },
   "outputs": [],
   "source": [
    "@variable(m, t >= 0)\n",
    "@constraint(m, soc, norm2{ x[i], i=1:2 } <= t)"
   ]
  },
  {
   "cell_type": "markdown",
   "metadata": {},
   "source": [
    "Semidefinite variables can be declared with the `SDP` type. Positive semidefinite constraints must be added using a dedicated macro:"
   ]
  },
  {
   "cell_type": "code",
   "execution_count": null,
   "metadata": {
    "collapsed": false
   },
   "outputs": [],
   "source": [
    "m = Model()\n",
    "@variable(m, W[1:5,1:5], SDP) # SDP type cannot have bounds\n",
    "@variable(m, G[1:5,1:5] >= 0, Symmetric)"
   ]
  },
  {
   "cell_type": "code",
   "execution_count": null,
   "metadata": {
    "collapsed": false
   },
   "outputs": [],
   "source": [
    "J = ones(5,5)\n",
    "sd_con = @SDconstraint(m, G >= J ); # SDconst has printing error in Jupyter;"
   ]
  },
  {
   "cell_type": "markdown",
   "metadata": {
    "slideshow": {
     "slide_type": "slide"
    }
   },
   "source": [
    "# Nonlinear Models\n",
    "The special macros @NLconstraint and @NLobjective are used to add nonlinear constraints and objectives."
   ]
  },
  {
   "cell_type": "code",
   "execution_count": null,
   "metadata": {
    "collapsed": false
   },
   "outputs": [],
   "source": [
    "using JuMP\n",
    "m = Model()\n",
    "@variable(m, x, start = 0.0)\n",
    "@variable(m, y, start = 0.0)\n",
    "\n",
    "@NLobjective(m, Min, (1-x)^2 + 100(y-x^2)^2)\n",
    "\n",
    "# adding a (linear) constraint\n",
    "@constraint(m, x + y == 10)\n",
    "\n",
    "print(m)\n"
   ]
  },
  {
   "cell_type": "code",
   "execution_count": null,
   "metadata": {
    "collapsed": false,
    "slideshow": {
     "slide_type": "subslide"
    }
   },
   "outputs": [],
   "source": [
    "solve(m)\n",
    "println(\"x = \", getvalue(x), \" y = \", getvalue(y))"
   ]
  },
  {
   "cell_type": "markdown",
   "metadata": {
    "slideshow": {
     "slide_type": "slide"
    }
   },
   "source": [
    "# Acknowledgements\n",
    "\n",
    "Figures have been taken from http://juliaopt.org\n",
    "\n",
    "Rosenbrock example taken from https://github.com/JuliaOpt/Optim.jl\n",
    "\n",
    "Some of the JuMP snippets were taken from http://www.juliaopt.org/JuMP.jl/0.13/\n"
   ]
  }
 ],
 "metadata": {
  "celltoolbar": "Slideshow",
  "kernelspec": {
   "display_name": "Julia 0.4.2",
   "language": "julia",
   "name": "julia-0.4"
  },
  "language_info": {
   "file_extension": ".jl",
   "mimetype": "application/julia",
   "name": "julia",
   "version": "0.4.2"
  }
 },
 "nbformat": 4,
 "nbformat_minor": 0
}
