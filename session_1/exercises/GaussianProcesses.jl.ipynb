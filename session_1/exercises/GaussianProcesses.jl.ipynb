{
 "cells": [
  {
   "cell_type": "markdown",
   "metadata": {},
   "source": [
    "# Julia’s GaussianProcesses package"
   ]
  },
  {
   "cell_type": "markdown",
   "metadata": {},
   "source": [
    "We demonstrate here the GaussianProcesses package which has been developed at STOR-i. If you have not already done so, you must install the package by running the following command:"
   ]
  },
  {
   "cell_type": "code",
   "execution_count": null,
   "metadata": {
    "collapsed": false
   },
   "outputs": [],
   "source": [
    "Pkg.add(\"GaussianProcesses\");"
   ]
  },
  {
   "cell_type": "markdown",
   "metadata": {},
   "source": [
    "Let’s start by considering a 1-dimensional GP. Firstly, we must load the packages. For plotting we use the Gadfly package."
   ]
  },
  {
   "cell_type": "code",
   "execution_count": null,
   "metadata": {
    "collapsed": false
   },
   "outputs": [],
   "source": [
    "using Gadfly, GaussianProcesses"
   ]
  },
  {
   "cell_type": "markdown",
   "metadata": {},
   "source": [
    "A Gaussian process is defined by its mean and covariance function. It’s common to assume\n",
    "a zero mean Gaussian process (i.e. $\\mathbb{E}[f (x)] = 0,\\ \\forall x$. Note: this can often be achieved by\n",
    "transforming the data $y = f (x) − \\mathbb{E} [f (x)]$.\n",
    "There are lots of possible covariance functions (often referred to as kernels) that could be\n",
    "used. Possibly the most popular is the squared exponential kernel, which we’ll use here."
   ]
  },
  {
   "cell_type": "code",
   "execution_count": null,
   "metadata": {
    "collapsed": false
   },
   "outputs": [],
   "source": [
    "mZero = MeanZero()        # Zero mean function\n",
    "logℓ, logσ = 0.0, 0.0     # Length and scale parameters (log-scale)\n",
    "kern = SEIso(logℓ, logσ)  # Isotropic squared exponential kernel"
   ]
  },
  {
   "cell_type": "markdown",
   "metadata": {},
   "source": [
    "One of the nice features of the package is that you can easily access function and object documentation:"
   ]
  },
  {
   "cell_type": "code",
   "execution_count": null,
   "metadata": {
    "collapsed": false
   },
   "outputs": [],
   "source": [
    "?SEIso"
   ]
  },
  {
   "cell_type": "markdown",
   "metadata": {},
   "source": [
    "Using the specified mean and covariance functions we can sample from the GP prior:"
   ]
  },
  {
   "cell_type": "code",
   "execution_count": null,
   "metadata": {
    "collapsed": false
   },
   "outputs": [],
   "source": [
    "gp = GP(m=mZero, k=kern)"
   ]
  },
  {
   "cell_type": "code",
   "execution_count": null,
   "metadata": {
    "collapsed": false
   },
   "outputs": [],
   "source": [
    "# Sample 5 paths from the GP prior\n",
    "x = collect(linspace(-5,5)); # choose a range for paths\n",
    "sample_paths = rand(gp, x, 5)\n",
    "\n",
    "# Plot sample paths of the prior\n",
    "colors = [colorant\"black\", colorant\"red\", colorant\"green\",\n",
    "          colorant\"blue\", colorant\"yellow\"]\n",
    "layers = []\n",
    "for i in 1:5\n",
    "    push!(layers, layer(x=x,y=sample_paths[:,i],Geom.line,\n",
    "                        Theme(default_color=colors[i])))\n",
    "end\n",
    "\n",
    "plot(layers...)"
   ]
  },
  {
   "cell_type": "markdown",
   "metadata": {},
   "source": [
    "The package also supports the following 1-dimensional kernels (i.e. isotropic kernels):\n",
    "- Matern (1/2): `Mat12Iso`\n",
    "- Matern (3/2):  `Mat32Iso`\n",
    "- Matern (5/2):  `Mat52Iso`\n",
    "- Linear: `LinIso`\n",
    "- Rational Quadratic: `RQIso`\n",
    "- Periodic: `Periodic`\n",
    "- Polynomial: `Poly`\n",
    "\n",
    "For details on the above kernels check the package documentation or check out this resource http://www.people.seas.harvard.edu/~dduvenaud/cookbook/."
   ]
  },
  {
   "cell_type": "markdown",
   "metadata": {},
   "source": [
    "## Exercises:\n",
    "1. What happens when you type ```gp``` or `show(gp)`?\n",
    "2. Try using one of the above kernels and refit the data.\n",
    "3. What happens if you add or multiple kernels together\n",
    "e.g. `kern = Mat(5/2,[0.0,0.0],0.0) + SE(0.0,0.0)`?"
   ]
  },
  {
   "cell_type": "code",
   "execution_count": null,
   "metadata": {
    "collapsed": true
   },
   "outputs": [],
   "source": []
  },
  {
   "cell_type": "markdown",
   "metadata": {},
   "source": [
    "We can fit observation data to our Gaussian Process object using the fit! on our object."
   ]
  },
  {
   "cell_type": "code",
   "execution_count": null,
   "metadata": {
    "collapsed": false
   },
   "outputs": [],
   "source": [
    "x=[-4.0,-3.0,-1.0,0.0,2.0]; # Input observations\n",
    "y=[-2.0,0.0,1.0,2.0,-1.0];  # Output observations\n",
    "fit!(gp, x, y)"
   ]
  },
  {
   "cell_type": "markdown",
   "metadata": {},
   "source": [
    "The same GaussianProcess object could also have been fitted when it was constructed by using the command: `gp = GP(x, y, mZero, kern)`.\n",
    "\n",
    "Gaussian process objects can be plotted. In the one dimensional case, the training data of the process is plotted along with the mean function and a 95% confidence interval."
   ]
  },
  {
   "cell_type": "code",
   "execution_count": null,
   "metadata": {
    "collapsed": false
   },
   "outputs": [],
   "source": [
    "plot(gp)"
   ]
  },
  {
   "cell_type": "code",
   "execution_count": null,
   "metadata": {
    "collapsed": true
   },
   "outputs": [],
   "source": []
  },
  {
   "cell_type": "markdown",
   "metadata": {},
   "source": [
    "As you may have noticed, changing the hyperparameters of a GP\n",
    "(e.g. variance and length scale of the squared exponential kernel) results in different GPs. Ideally, we want to automate how these hyperparameters are tuned. We use maximum likelihood estimation to optimise the parameters."
   ]
  },
  {
   "cell_type": "code",
   "execution_count": null,
   "metadata": {
    "collapsed": false
   },
   "outputs": [],
   "source": [
    "optimize!(gp)"
   ]
  },
  {
   "cell_type": "code",
   "execution_count": null,
   "metadata": {
    "collapsed": false
   },
   "outputs": [],
   "source": [
    "plot(gp)"
   ]
  },
  {
   "cell_type": "markdown",
   "metadata": {},
   "source": [
    "Exercise:\n",
    "1. The default optimisation algorithm for the GP package uses conjugate gradients, what happens if you use a different algorithm? Check out https://github.com/JuliaOpt/Optim.jl"
   ]
  },
  {
   "cell_type": "code",
   "execution_count": null,
   "metadata": {
    "collapsed": true
   },
   "outputs": [],
   "source": []
  },
  {
   "cell_type": "markdown",
   "metadata": {},
   "source": [
    "More information about the package, including further examples, can be found here https:\n",
    "//github.com/STOR-i/GaussianProcesses.jl. Let’s us know if you want to be\n",
    "involved in the development of this package. Feedback is also very welcome."
   ]
  }
 ],
 "metadata": {
  "kernelspec": {
   "display_name": "Julia 0.4.2",
   "language": "julia",
   "name": "julia-0.4"
  },
  "language_info": {
   "file_extension": ".jl",
   "mimetype": "application/julia",
   "name": "julia",
   "version": "0.4.2"
  }
 },
 "nbformat": 4,
 "nbformat_minor": 0
}
