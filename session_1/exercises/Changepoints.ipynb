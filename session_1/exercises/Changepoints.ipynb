{
 "cells": [
  {
   "cell_type": "markdown",
   "metadata": {},
   "source": [
    "# Changepoints.jl"
   ]
  },
  {
   "cell_type": "markdown",
   "metadata": {},
   "source": [
    "This is a Julia package for the detection of multiple changepoints in time series.\n",
    "\n",
    "- Detection is based on optimising a cost function over segments of the data.\n",
    "- Implementations of the most efficient search algorithms (PELT , Binary Segmentation).\n",
    "- A wide choice of parametric cost functions already implemented such as a change in mean/variance/mean and variance for Normal errors.\n",
    "- Changepoint algorithms have an interface which allows users to input their own cost functions"
   ]
  },
  {
   "cell_type": "markdown",
   "metadata": {},
   "source": [
    "## Installation and Loading\n",
    "Changepoints requires Julia version 0.4. To install Changepoints run the following command inside a Julia session:\n",
    "\n",
    "julia> Pkg.add(\"Changepoints\")"
   ]
  },
  {
   "cell_type": "markdown",
   "metadata": {},
   "source": [
    "The package is usually used in conjunction with the Distributions and Gadfly packages."
   ]
  },
  {
   "cell_type": "code",
   "execution_count": null,
   "metadata": {
    "collapsed": true
   },
   "outputs": [],
   "source": [
    "using Gadfly, Changepoints, Distributions"
   ]
  },
  {
   "cell_type": "markdown",
   "metadata": {},
   "source": [
    "## Documentation\n",
    "\n",
    "Most of the functionality of Changepoints has been documented."
   ]
  },
  {
   "cell_type": "code",
   "execution_count": null,
   "metadata": {
    "collapsed": true
   },
   "outputs": [],
   "source": [
    "?@PELT"
   ]
  },
  {
   "cell_type": "markdown",
   "metadata": {},
   "source": [
    "## Simulation of Changepoints"
   ]
  },
  {
   "cell_type": "markdown",
   "metadata": {},
   "source": [
    "This code simulates a time series of length `n` with segments that have lengths drawn from a Poisson distribution with mean λ. In this case the variance is fixed to 1.0 but for each new segment a new mean is drawn from a Uniform distribution."
   ]
  },
  {
   "cell_type": "code",
   "execution_count": null,
   "metadata": {
    "collapsed": true
   },
   "outputs": [],
   "source": [
    "n = 1000                   # Sample size\n",
    "λ = 70                     # Freq. of changepoints\n",
    "μ, σ = Uniform(0,5), 1.0 \n",
    "data, cps = @changepoint_sampler n λ Normal(μ, σ)"
   ]
  },
  {
   "cell_type": "markdown",
   "metadata": {},
   "source": [
    "The package supports Gadfly for convenient plotting of the results. (Gadfly is an optional dependency for the package and must be explicitly loaded. If Gadfly was loaded after the Changepoints package then the user must run `Changepoints.Gadfly_init()` in order to load the extra plotting functionality."
   ]
  },
  {
   "cell_type": "code",
   "execution_count": null,
   "metadata": {
    "collapsed": true
   },
   "outputs": [],
   "source": [
    "plot(data, cps)"
   ]
  },
  {
   "cell_type": "markdown",
   "metadata": {},
   "source": [
    "### Exercise\n",
    "\n",
    "Using the above code as a template, try simulating and plotting the following time series:\n",
    "\n",
    " 1. Normal distribution with changing variance and mean\n",
    " 2. Poisson distribution with changing frequency\n",
    " \n",
    " Give each of the outputted time series unique names so they can be reused."
   ]
  },
  {
   "cell_type": "code",
   "execution_count": null,
   "metadata": {
    "collapsed": true
   },
   "outputs": [],
   "source": []
  },
  {
   "cell_type": "markdown",
   "metadata": {},
   "source": [
    "## Finding Changepoints\n",
    "\n",
    "The package has currently implemented the binary segmentation and PELT algorithms. Both of these algorithms take as input a segment cost function. The package contains many different segment cost models, see for example `?NormalMeanSegment` for a full list. The following code constructs a cost function from data assuming Normally distributed variates with changing mean and fixed variance."
   ]
  },
  {
   "cell_type": "code",
   "execution_count": null,
   "metadata": {
    "collapsed": true
   },
   "outputs": [],
   "source": [
    "seg_cost = NormalMeanSegment(data, σ )"
   ]
  },
  {
   "cell_type": "code",
   "execution_count": null,
   "metadata": {
    "collapsed": true
   },
   "outputs": [],
   "source": [
    "seg_cost(1, 5)"
   ]
  },
  {
   "cell_type": "markdown",
   "metadata": {},
   "source": [
    "Rather than having to remember the name of the function to construct the appropriate cost function, the package provides a macro which creates segment costs in a much more intuitive way:"
   ]
  },
  {
   "cell_type": "code",
   "execution_count": null,
   "metadata": {
    "collapsed": true
   },
   "outputs": [],
   "source": [
    "seg_cost = @segment_cost data Normal(?, σ)"
   ]
  },
  {
   "cell_type": "markdown",
   "metadata": {},
   "source": [
    "The `?` above denotes a parameter whose value changes."
   ]
  },
  {
   "cell_type": "markdown",
   "metadata": {},
   "source": [
    "Once a segment cost function has been constructed, we can run our changepoint algorithm with specified penalty."
   ]
  },
  {
   "cell_type": "code",
   "execution_count": null,
   "metadata": {
    "collapsed": true
   },
   "outputs": [],
   "source": [
    "pen = 3.0\n",
    "pelt_cps, pelt_cost = PELT(seg_cost, n, pen);\n",
    "bs_cps, bs_cost = BS(seg_cost, n, pen);"
   ]
  },
  {
   "cell_type": "markdown",
   "metadata": {},
   "source": [
    "More macros are provided to cut out the step of explicitly constructing segment costs:"
   ]
  },
  {
   "cell_type": "code",
   "execution_count": null,
   "metadata": {
    "collapsed": true
   },
   "outputs": [],
   "source": [
    "pelt_cps, pelt_cost = @PELT data Normal(?, \\sigma) pen\n",
    "bs_cps, bs_cost = @BS data Normal(?, \\sigma) pen"
   ]
  },
  {
   "cell_type": "markdown",
   "metadata": {},
   "source": [
    "### Exercise\n",
    "For each of the time series you constructed above, run PELT. Try constructing the segment cost explicitly as well as using the convenience macros."
   ]
  },
  {
   "cell_type": "code",
   "execution_count": null,
   "metadata": {
    "collapsed": true
   },
   "outputs": [],
   "source": []
  }
 ],
 "metadata": {
  "kernelspec": {
   "display_name": "Julia 0.4.2",
   "language": "julia",
   "name": "julia-0.4"
  },
  "language_info": {
   "file_extension": ".jl",
   "mimetype": "application/julia",
   "name": "julia",
   "version": "0.4.2"
  }
 },
 "nbformat": 4,
 "nbformat_minor": 0
}
