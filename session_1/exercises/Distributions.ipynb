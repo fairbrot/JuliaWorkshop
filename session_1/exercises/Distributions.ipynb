{
 "cells": [
  {
   "cell_type": "markdown",
   "metadata": {},
   "source": [
    "# Distributions.jl\n",
    "\n",
    "The distributions package provides implementations for many common univariate and multivariate probability distributions. It allows you to sample from distributions and calculate various properities and statistics."
   ]
  },
  {
   "cell_type": "markdown",
   "metadata": {},
   "source": [
    "Unlike R (but similar to Python), distributions are represented by objects."
   ]
  },
  {
   "cell_type": "code",
   "execution_count": null,
   "metadata": {
    "collapsed": true
   },
   "outputs": [],
   "source": [
    "using Distributions"
   ]
  },
  {
   "cell_type": "code",
   "execution_count": null,
   "metadata": {
    "collapsed": false
   },
   "outputs": [],
   "source": [
    "norm = Normal(0.0, 4.0)"
   ]
  },
  {
   "cell_type": "code",
   "execution_count": null,
   "metadata": {
    "collapsed": false
   },
   "outputs": [],
   "source": [
    "pois = Poisson(3.0)"
   ]
  },
  {
   "cell_type": "markdown",
   "metadata": {},
   "source": [
    "Full list of discrete univariate distributions: http://distributionsjl.readthedocs.io/en/latest/univariate-discrete.html\n",
    "\n",
    "Full list of discrete multivariate distributions: http://distributionsjl.readthedocs.io/en/latest/univariate-continuous.html\n",
    "\n",
    "Functions for doing calculations with distributions have a uniform interface across all distributions."
   ]
  },
  {
   "cell_type": "code",
   "execution_count": null,
   "metadata": {
    "collapsed": false
   },
   "outputs": [],
   "source": [
    "rand(norm, (3,4)), rand(pois, 2)"
   ]
  },
  {
   "cell_type": "code",
   "execution_count": null,
   "metadata": {
    "collapsed": false
   },
   "outputs": [],
   "source": [
    "mean(norm), mean(pois), var(norm), var(pois)"
   ]
  },
  {
   "cell_type": "code",
   "execution_count": null,
   "metadata": {
    "collapsed": false
   },
   "outputs": [],
   "source": [
    "pdf(norm, 2.0), pdf(pois, [1, 3, 4])"
   ]
  },
  {
   "cell_type": "code",
   "execution_count": null,
   "metadata": {
    "collapsed": false
   },
   "outputs": [],
   "source": [
    "cdf(norm, 2.0), cdf(pois, [1,2,3,4,5])"
   ]
  },
  {
   "cell_type": "code",
   "execution_count": null,
   "metadata": {
    "collapsed": false
   },
   "outputs": [],
   "source": [
    "loglikelihood(norm, rand(norm, 10))"
   ]
  },
  {
   "cell_type": "markdown",
   "metadata": {},
   "source": [
    "Other functions include `std` (standard dev.), `skewness`, `kurtosis`, `quantile`, `mgf`. For a full list see http://distributionsjl.readthedocs.io/en/latest/univariate.html."
   ]
  },
  {
   "cell_type": "markdown",
   "metadata": {},
   "source": [
    "### Exercise\n",
    "\n",
    "1) Write a function which takes as input a distribution, a sample size `n`, and a real-valued function `f` which calculates sample mean $\\frac{1}{n}\\sum_{i=1}^n f(x_i)$ and a 95% confidence interval for the true mean $\\mathbb{E}[f(X)]$. \n",
    "\n",
    "Hint 1: `mean` and `std` can be used with arrays.\n",
    "\n",
    "Hint 2: The `map` can be used to apply a function to all values of an array.\n",
    "\n",
    "2) Use this function to simulate $\\mathbb{E}[\\frac{1}{1+X^2}]$ where $X$ is a random variable with distribution:\n",
    "\n",
    "a) Gamma(1,2)\n",
    "\n",
    "b) TDist(5.0)\n",
    "\n",
    "c) Frechet(1.0, 2.0)\n",
    "\n",
    "Hint: make use of anonymous functions"
   ]
  },
  {
   "cell_type": "code",
   "execution_count": null,
   "metadata": {
    "collapsed": false
   },
   "outputs": [],
   "source": [
    "function simulate(dist::Sampleable, n::Int, f::Function)\n",
    "    # Write function body here\n",
    "end"
   ]
  },
  {
   "cell_type": "markdown",
   "metadata": {
    "collapsed": true
   },
   "source": [
    "Recall that an approximate beta confidence interval for a large sample is given by $\\bar{x}_n \\pm \\epsilon_{\\beta}\\frac{\\sigma_n}{\\sqrt{n}}$ where $x_n$ is the sample mean, $\\sigma_n$ is the sample standard deviation and $\\epsilon_{\\beta}$ is the $\\beta$-quantile of a standard Normal distribution."
   ]
  },
  {
   "cell_type": "markdown",
   "metadata": {},
   "source": [
    "## Multivariate Distributions\n",
    "\n",
    "Multivariate distribution have a very similar interface to univariate distributions but with a slightly different set of available functions."
   ]
  },
  {
   "cell_type": "code",
   "execution_count": null,
   "metadata": {
    "collapsed": false
   },
   "outputs": [],
   "source": [
    "mvnorm = MvNormal([1.0, 2.0], [[1.0, 0.2] [0.2, 1.0]])"
   ]
  },
  {
   "cell_type": "code",
   "execution_count": null,
   "metadata": {
    "collapsed": false
   },
   "outputs": [],
   "source": [
    "mean(mvnorm), cov(mvnorm)"
   ]
  },
  {
   "cell_type": "markdown",
   "metadata": {},
   "source": [
    "Multiple samples from a multivariate distribution are put into a matrix whose columns correspond to individual samples."
   ]
  },
  {
   "cell_type": "code",
   "execution_count": null,
   "metadata": {
    "collapsed": false
   },
   "outputs": [],
   "source": [
    "rand(mvnorm, 5)"
   ]
  },
  {
   "cell_type": "markdown",
   "metadata": {},
   "source": [
    "### Exercise\n",
    "\n",
    "Applying a linear operator to a random vector which had multivariate Normal distribution results in another Normal distribution. In particular, if $X\\sim \\mathcal{N}(\\mu, \\Sigma)$ then $AX \\sim \\mathcal{N}(A\\mu, A^T\\Sigma A)$.\n",
    "\n",
    "1) Create a method for the operator `*` which constructs a new MvNormal distribution by multiplying a distribution by a matrix."
   ]
  },
  {
   "cell_type": "code",
   "execution_count": null,
   "metadata": {
    "collapsed": false
   },
   "outputs": [],
   "source": [
    "import Base: *\n",
    "*(A::Matrix{Float64}, dist::MvNormal) = ..."
   ]
  },
  {
   "cell_type": "markdown",
   "metadata": {},
   "source": [
    "2) Extend the `+` operator to add a vector to random vector with multivariate Normal distribution."
   ]
  },
  {
   "cell_type": "code",
   "execution_count": null,
   "metadata": {
    "collapsed": true
   },
   "outputs": [],
   "source": []
  }
 ],
 "metadata": {
  "kernelspec": {
   "display_name": "Julia 0.4.2",
   "language": "julia",
   "name": "julia-0.4"
  },
  "language_info": {
   "file_extension": ".jl",
   "mimetype": "application/julia",
   "name": "julia",
   "version": "0.4.2"
  }
 },
 "nbformat": 4,
 "nbformat_minor": 0
}
