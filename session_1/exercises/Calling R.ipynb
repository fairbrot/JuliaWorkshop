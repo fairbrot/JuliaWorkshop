{
 "cells": [
  {
   "cell_type": "markdown",
   "metadata": {},
   "source": [
    "# RCall.jl"
   ]
  },
  {
   "cell_type": "markdown",
   "metadata": {},
   "source": [
    "As Julia is a relatively new programming, it does not have as many statistics packages as R. For times where you need to use functionality of R that does not currently exist in Julia, one can use the Julia package `RCall.jl` to directly run R code in the Juila."
   ]
  },
  {
   "cell_type": "code",
   "execution_count": null,
   "metadata": {
    "collapsed": false
   },
   "outputs": [],
   "source": [
    "Pkg.add(\"RCall\")"
   ]
  },
  {
   "cell_type": "markdown",
   "metadata": {},
   "source": [
    "On loading the RCall package, Julia opens an R session as a subprocess."
   ]
  },
  {
   "cell_type": "code",
   "execution_count": null,
   "metadata": {
    "collapsed": false
   },
   "outputs": [],
   "source": [
    "using RCall"
   ]
  },
  {
   "cell_type": "markdown",
   "metadata": {},
   "source": [
    "The easiest way to run R code is to use the R-string macro"
   ]
  },
  {
   "cell_type": "code",
   "execution_count": null,
   "metadata": {
    "collapsed": false
   },
   "outputs": [],
   "source": [
    "x = R\"runif(10)\""
   ]
  },
  {
   "cell_type": "markdown",
   "metadata": {},
   "source": [
    "Julia objects can be used within the R code via the usual string interpolation operator. "
   ]
  },
  {
   "cell_type": "code",
   "execution_count": null,
   "metadata": {
    "collapsed": false
   },
   "outputs": [],
   "source": [
    "R\"optim(0, $(x -> x-cos(x)), method='BFGS')\""
   ]
  },
  {
   "cell_type": "markdown",
   "metadata": {},
   "source": [
    "(This is an illustrative example. You can of course use the Julia package optimize to do unconstrained optimization and do not need to call R.)"
   ]
  },
  {
   "cell_type": "markdown",
   "metadata": {},
   "source": [
    "Finally, R objects can be converted into Julia objects using the `rcopy` function."
   ]
  },
  {
   "cell_type": "code",
   "execution_count": null,
   "metadata": {
    "collapsed": false,
    "scrolled": true
   },
   "outputs": [],
   "source": [
    "rcopy(x)"
   ]
  },
  {
   "cell_type": "markdown",
   "metadata": {},
   "source": [
    "# Exercise - Julia/R Comparison"
   ]
  },
  {
   "cell_type": "markdown",
   "metadata": {},
   "source": [
    "In the R script `functions.R` are defined a few functions which will be used in this exercise.\n",
    "\n",
    "The function`ran_psd` which generates a random positive definite matrix (to be used, for example, as a covariance matrix to test some algorithm). \n",
    "\n",
    "The function `target` defines a target density from which the function `mcmc` takes samples using the Metropolis-Hastings algorithm.\n",
    "\n",
    "The functions in this script can be loaded into Julia by running:"
   ]
  },
  {
   "cell_type": "code",
   "execution_count": null,
   "metadata": {
    "collapsed": false
   },
   "outputs": [],
   "source": [
    "R\"source(\\\"ran_mat.R\\\")\""
   ]
  },
  {
   "cell_type": "markdown",
   "metadata": {},
   "source": [
    "1. Write a function in Julia called `ran_psd_julia` which serves the same purpose as `ran_psd`.\n",
    "2. Write a function in Juila called `ran_psd_r` which runs the R function.\n",
    "3. Compare the running time for each of these functions for `n=1000`.\n",
    "4. Repeat the above exercises for the function `mcmc`. Use the Julia function `randn` to generate standard Normal variates to implement the version of this function in Julia. Why is there such a big difference in the run-time speed in this case?\n",
    "\n",
    "Recall, that each function should be run once to compile before taking timings."
   ]
  }
 ],
 "metadata": {
  "kernelspec": {
   "display_name": "Julia 0.4.2",
   "language": "julia",
   "name": "julia-0.4"
  },
  "language_info": {
   "file_extension": ".jl",
   "mimetype": "application/julia",
   "name": "julia",
   "version": "0.4.2"
  }
 },
 "nbformat": 4,
 "nbformat_minor": 0
}
