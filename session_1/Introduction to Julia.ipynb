{
 "cells": [
  {
   "cell_type": "markdown",
   "metadata": {
    "slideshow": {
     "slide_type": "slide"
    }
   },
   "source": [
    "# Julia: A modern programming language for Statistics and Operational Research"
   ]
  },
  {
   "cell_type": "markdown",
   "metadata": {},
   "source": [
    "## By Jamie Fairbrother"
   ]
  },
  {
   "cell_type": "markdown",
   "metadata": {
    "slideshow": {
     "slide_type": "slide"
    }
   },
   "source": [
    "“Julia is a high-level, high-performance dynamic programming\n",
    "language for technical computing, with syntax that is familiar\n",
    "to users of other technical computing environments.”\n",
    "\n",
    "juliaorg.lang"
   ]
  },
  {
   "cell_type": "markdown",
   "metadata": {
    "collapsed": true,
    "slideshow": {
     "slide_type": "slide"
    }
   },
   "source": [
    "# Why Julia for Statistics and Operational Research?"
   ]
  },
  {
   "cell_type": "markdown",
   "metadata": {
    "collapsed": false,
    "slideshow": {
     "slide_type": "fragment"
    }
   },
   "source": [
    "- Speed comparable to C for non-vectorizable/parallelisable code\n",
    "- Intuitive and easy-to-read syntax\n",
    "- Packages which make it ideal as a statistics and operational research language\n",
    "- Open source"
   ]
  },
  {
   "cell_type": "markdown",
   "metadata": {
    "slideshow": {
     "slide_type": "slide"
    }
   },
   "source": [
    "## Speed\n",
    "\n",
    "![Benchmarks](benchmarks.svg \"Speed benchmarks\")"
   ]
  },
  {
   "cell_type": "markdown",
   "metadata": {
    "slideshow": {
     "slide_type": "slide"
    }
   },
   "source": [
    "# Language Basics"
   ]
  },
  {
   "cell_type": "markdown",
   "metadata": {
    "slideshow": {
     "slide_type": "slide"
    }
   },
   "source": [
    "## Statements"
   ]
  },
  {
   "cell_type": "code",
   "execution_count": null,
   "metadata": {
    "collapsed": false
   },
   "outputs": [],
   "source": [
    "x = 1\n",
    "y = 2 + x\n",
    "z = y / 2\n",
    "π"
   ]
  },
  {
   "cell_type": "code",
   "execution_count": null,
   "metadata": {
    "collapsed": false
   },
   "outputs": [],
   "source": [
    "r = 2.3\n",
    "area, circ = π*r^2, 2π*r  # Python-style tuple assignment"
   ]
  },
  {
   "cell_type": "markdown",
   "metadata": {
    "slideshow": {
     "slide_type": "slide"
    }
   },
   "source": [
    "## Vectors and Matrices\n",
    "Julia uses syntax similar to Matlab"
   ]
  },
  {
   "cell_type": "code",
   "execution_count": null,
   "metadata": {
    "collapsed": false
   },
   "outputs": [],
   "source": [
    "A = [[1.0 2.3 3.0];\n",
    "     [2.0 3.0 0.0];\n",
    "     [0.0 1.0 0.0]];\n",
    "b = [1.0, 2.0, 3.0];"
   ]
  },
  {
   "cell_type": "code",
   "execution_count": null,
   "metadata": {
    "collapsed": false
   },
   "outputs": [],
   "source": [
    "A*b   # Matrix vector multiplication\n",
    "A\\b   # inv(A) * b"
   ]
  },
  {
   "cell_type": "markdown",
   "metadata": {},
   "source": [
    "Element-wise operations:"
   ]
  },
  {
   "cell_type": "code",
   "execution_count": null,
   "metadata": {
    "collapsed": false
   },
   "outputs": [],
   "source": [
    "a, b = [1,2,3], [3,2,1]\n",
    "a .* b # Element-wise operations\n",
    "a ./ b"
   ]
  },
  {
   "cell_type": "markdown",
   "metadata": {
    "slideshow": {
     "slide_type": "subslide"
    }
   },
   "source": [
    "Vector/matrix construction:"
   ]
  },
  {
   "cell_type": "code",
   "execution_count": null,
   "metadata": {
    "collapsed": false,
    "slideshow": {
     "slide_type": "-"
    }
   },
   "outputs": [],
   "source": [
    "eye(3);        # Identity 3 x 3 matrix\n",
    "fill(1.0, (3,3)) # 3 x 3 matrix filled with ones\n",
    "C = rand(3,3) # Random 3 x 3 matrix"
   ]
  },
  {
   "cell_type": "markdown",
   "metadata": {
    "slideshow": {
     "slide_type": "-"
    }
   },
   "source": [
    "Indexing:"
   ]
  },
  {
   "cell_type": "code",
   "execution_count": null,
   "metadata": {
    "collapsed": false,
    "slideshow": {
     "slide_type": "-"
    }
   },
   "outputs": [],
   "source": [
    "A[1,1]   # Get individual element\n",
    "b[2:end] # Subvector\n",
    "C[2:3,:] # Submatrix"
   ]
  },
  {
   "cell_type": "markdown",
   "metadata": {
    "collapsed": true
   },
   "source": [
    "Transposing:"
   ]
  },
  {
   "cell_type": "code",
   "execution_count": null,
   "metadata": {
    "collapsed": false
   },
   "outputs": [],
   "source": [
    "A'"
   ]
  },
  {
   "cell_type": "code",
   "execution_count": null,
   "metadata": {
    "collapsed": false
   },
   "outputs": [],
   "source": [
    "C'C"
   ]
  },
  {
   "cell_type": "markdown",
   "metadata": {
    "slideshow": {
     "slide_type": "slide"
    }
   },
   "source": [
    "## Control-flow and Looping\n",
    "Julia uses Matlab style blocks"
   ]
  },
  {
   "cell_type": "code",
   "execution_count": null,
   "metadata": {
    "collapsed": false
   },
   "outputs": [],
   "source": [
    "for i in 1:20\n",
    "    if i % 5 == 1\n",
    "        print(\"\\n\\\"$i\\\" \")\n",
    "    else\n",
    "        print(\"$i \")\n",
    "    end\n",
    "end"
   ]
  },
  {
   "cell_type": "markdown",
   "metadata": {
    "slideshow": {
     "slide_type": "slide"
    }
   },
   "source": [
    "## Functions\n",
    "Functions can be defined in a Matlab-style block. Note that function arguments can be annotated by types."
   ]
  },
  {
   "cell_type": "code",
   "execution_count": null,
   "metadata": {
    "collapsed": false
   },
   "outputs": [],
   "source": [
    "function normpdf(x::Float64)\n",
    "    return 0.5 * exp(-x^2)\n",
    "end\n",
    "normpdf(0.0)"
   ]
  },
  {
   "cell_type": "markdown",
   "metadata": {},
   "source": [
    "Functions can also be created in a single line:"
   ]
  },
  {
   "cell_type": "code",
   "execution_count": null,
   "metadata": {
    "collapsed": false
   },
   "outputs": [],
   "source": [
    "normcdf(x) = quadgk(normpdf, -Inf, x)[1]\n",
    "normcdf(1.0)"
   ]
  },
  {
   "cell_type": "markdown",
   "metadata": {
    "slideshow": {
     "slide_type": "slide"
    }
   },
   "source": [
    "# Documentation"
   ]
  },
  {
   "cell_type": "markdown",
   "metadata": {
    "collapsed": false
   },
   "source": [
    "Function documentation is accessible inside a Julia session:"
   ]
  },
  {
   "cell_type": "code",
   "execution_count": null,
   "metadata": {
    "collapsed": false
   },
   "outputs": [],
   "source": [
    "?rand"
   ]
  },
  {
   "cell_type": "code",
   "execution_count": null,
   "metadata": {
    "collapsed": false
   },
   "outputs": [],
   "source": [
    "rand(1:100, (3,3))"
   ]
  },
  {
   "cell_type": "markdown",
   "metadata": {
    "slideshow": {
     "slide_type": "slide"
    }
   },
   "source": [
    "## Package Management\n",
    "\n",
    "The functionality of Julia can be extended through the use of packages."
   ]
  },
  {
   "cell_type": "code",
   "execution_count": null,
   "metadata": {
    "collapsed": false
   },
   "outputs": [],
   "source": [
    "using Gadfly;"
   ]
  },
  {
   "cell_type": "markdown",
   "metadata": {},
   "source": [
    "Julia has a package management system which allows the easy installation, removal and updating of packages\n",
    "\n",
    "```julia\n",
    "Pkg.add(\"Gadfly\")   # Install Gadfly package\n",
    "Pkg.rm(\"RDatasets\") # Remove RDatasets package\n",
    "Pkg.update()        # Update all installed packages\n",
    "```"
   ]
  },
  {
   "cell_type": "markdown",
   "metadata": {
    "collapsed": true,
    "slideshow": {
     "slide_type": "slide"
    }
   },
   "source": [
    "# Advanced Features"
   ]
  },
  {
   "cell_type": "markdown",
   "metadata": {
    "slideshow": {
     "slide_type": "slide"
    }
   },
   "source": [
    "## Just-in-time (JIT) compilation\n",
    "\n",
    "Julia compiles code into binary code when a function it is run"
   ]
  },
  {
   "cell_type": "code",
   "execution_count": null,
   "metadata": {
    "collapsed": false
   },
   "outputs": [],
   "source": [
    "A = rand(100,100);"
   ]
  },
  {
   "cell_type": "code",
   "execution_count": null,
   "metadata": {
    "collapsed": false
   },
   "outputs": [],
   "source": [
    "@time svd(A) # Time SV decomposition of a matrix;"
   ]
  },
  {
   "cell_type": "markdown",
   "metadata": {},
   "source": [
    "Code thus runs quicker after the first run"
   ]
  },
  {
   "cell_type": "code",
   "execution_count": null,
   "metadata": {
    "collapsed": false
   },
   "outputs": [],
   "source": [
    "@time svd(A);"
   ]
  },
  {
   "cell_type": "markdown",
   "metadata": {
    "slideshow": {
     "slide_type": "slide"
    }
   },
   "source": [
    "## Parallelisation\n",
    "\n",
    "Julia has built-in support for parallisation"
   ]
  },
  {
   "cell_type": "code",
   "execution_count": null,
   "metadata": {
    "collapsed": false
   },
   "outputs": [],
   "source": [
    "# Parallelisation of a \"for\" loop\n",
    "a = SharedArray(Float64,10)\n",
    "@parallel for i=1:10\n",
    "    a[i] = sin(2π*rand())\n",
    "end;"
   ]
  },
  {
   "cell_type": "code",
   "execution_count": null,
   "metadata": {
    "collapsed": false
   },
   "outputs": [],
   "source": [
    "t = @spawn rand(100000); # Spawn a new process\n",
    "x = rand(100000);        # Do something else...\n",
    "x + fetch(t);            # Use result from process;"
   ]
  },
  {
   "cell_type": "markdown",
   "metadata": {
    "slideshow": {
     "slide_type": "slide"
    }
   },
   "source": [
    "## Macros\n",
    "Julia makes extensive of \"macros\" which are commands used to generate code. They are often used to provide a more convenient way of carrying out a task."
   ]
  },
  {
   "cell_type": "markdown",
   "metadata": {
    "slideshow": {
     "slide_type": "fragment"
    }
   },
   "source": [
    "All macros are prefixed with `@` e.g. `@time, @spawn` etc.\n",
    "To see what a macro does, we can use the `macroexpand` function:"
   ]
  },
  {
   "cell_type": "code",
   "execution_count": null,
   "metadata": {
    "collapsed": false
   },
   "outputs": [],
   "source": [
    "macroexpand(:( @time rand(100000)))"
   ]
  },
  {
   "cell_type": "markdown",
   "metadata": {
    "collapsed": true,
    "slideshow": {
     "slide_type": "slide"
    }
   },
   "source": [
    "# Other advanced features\n",
    "\n",
    "- Multiple dispatch (function overloading)\n",
    "- Directly calling C code\n",
    "- Efficient user defined types\n",
    "- Unicode support"
   ]
  },
  {
   "cell_type": "markdown",
   "metadata": {
    "slideshow": {
     "slide_type": "slide"
    }
   },
   "source": [
    "# Packages"
   ]
  },
  {
   "cell_type": "markdown",
   "metadata": {
    "slideshow": {
     "slide_type": "slide"
    }
   },
   "source": [
    "## Plotting\n",
    "The main plotting packages for Julia are Gadfly and PyPlot"
   ]
  },
  {
   "cell_type": "code",
   "execution_count": null,
   "metadata": {
    "collapsed": false
   },
   "outputs": [],
   "source": [
    "using Gadfly # Similar interface to ggplot in R\n",
    "\n",
    "x = linspace(-1, 1, 100)\n",
    "y = 0.5*exp(-x.^2/2)\n",
    "plot(x=x, y=y, Geom.line)"
   ]
  },
  {
   "cell_type": "markdown",
   "metadata": {
    "slideshow": {
     "slide_type": "slide"
    }
   },
   "source": [
    "# Distributions\n",
    "\n",
    "Distributions.jl implements many univariate and multivariate distributions from which one can sample, calculate various properties."
   ]
  },
  {
   "cell_type": "code",
   "execution_count": null,
   "metadata": {
    "collapsed": false
   },
   "outputs": [],
   "source": [
    "using Distributions\n",
    "\n",
    "norm = Normal(3, 2) #Define Normal distribution with mean 3 and std. dev. 2"
   ]
  },
  {
   "cell_type": "code",
   "execution_count": null,
   "metadata": {
    "collapsed": false
   },
   "outputs": [],
   "source": [
    "pdf(norm, 1:0.05:5)\n",
    "mean(norm)\n",
    "quantile(norm, 0.95)"
   ]
  },
  {
   "cell_type": "code",
   "execution_count": null,
   "metadata": {
    "collapsed": false
   },
   "outputs": [],
   "source": [
    "rand(norm, 5)"
   ]
  },
  {
   "cell_type": "markdown",
   "metadata": {
    "slideshow": {
     "slide_type": "slide"
    }
   },
   "source": [
    "# Optimization\n",
    "\n",
    "Julia has interfaces for many popular solvers including GLPK, CLP, CBC, CPLEX, Gurobi, Mosek, Ipopt, NLOpt."
   ]
  },
  {
   "cell_type": "markdown",
   "metadata": {},
   "source": [
    "The JuMP package provides a convenient way of modelling problems:"
   ]
  },
  {
   "cell_type": "code",
   "execution_count": null,
   "metadata": {
    "collapsed": false
   },
   "outputs": [],
   "source": [
    "using JuMP\n",
    "using Gurobi\n",
    "\n",
    "# Maximization problem\n",
    "m = Model(solver=GurobiSolver())\n",
    "@variable(m, x[1:5], Bin)"
   ]
  },
  {
   "cell_type": "code",
   "execution_count": null,
   "metadata": {
    "collapsed": false
   },
   "outputs": [],
   "source": [
    "profit = [ 5, 3, 2, 7, 4 ]\n",
    "weight = [ 2, 8, 4, 2, 5 ]\n",
    "capacity = 10\n",
    "\n",
    "# Objective: maximize profit\n",
    "@objective(m, Max, dot(profit, x))"
   ]
  },
  {
   "cell_type": "code",
   "execution_count": null,
   "metadata": {
    "collapsed": false
   },
   "outputs": [],
   "source": [
    "# Constraint: can carry all\n",
    "@constraint(m, dot(weight, x) <= capacity)"
   ]
  },
  {
   "cell_type": "code",
   "execution_count": null,
   "metadata": {
    "collapsed": false,
    "slideshow": {
     "slide_type": "slide"
    }
   },
   "outputs": [],
   "source": [
    "# Solve problem using MIP solver\n",
    "status = solve(m)\n",
    "\n",
    "println(\"Objective is: \", getobjectivevalue(m))\n",
    "println(\"Solution is:\")\n",
    "for i = 1:5\n",
    "    print(\"x[$i] = \", getvalue(x[i]))\n",
    "    println(\", p[$i]/w[$i] = \", profit[i]/weight[i])\n",
    "end"
   ]
  },
  {
   "cell_type": "markdown",
   "metadata": {
    "slideshow": {
     "slide_type": "slide"
    }
   },
   "source": [
    "JuMP can also:\n",
    "- Model SOCP, SDP and other non-linear problems\n",
    "- Extract dual/slack information\n",
    "- Modify problems and warm starts (when solver supports these)\n",
    "- Define callbacks with certain solvers"
   ]
  },
  {
   "cell_type": "markdown",
   "metadata": {},
   "source": [
    "# Other Packages\n",
    "\n",
    "- Operational Reseach: Optim.jl, Convex.jl, Graphs.jl, Queueing.jl, TextAnalysis.jl\n",
    "- Statistics: DataFrames.jl, TimeSeries.jl, Lora.jl (MCMC), Clustering.jl, GLM.jl, SVM.jl\n",
    "- Maths: Calculus.jl (symbolic differentiation), Combinatorics.jl, ODE.jl\n",
    "- Other: Interact.jl (interactive plots)"
   ]
  },
  {
   "cell_type": "markdown",
   "metadata": {
    "slideshow": {
     "slide_type": "fragment"
    }
   },
   "source": [
    "Certain functionality isn't available?... Write your own package!\n",
    "STOR-i has published two packages:\n",
    "- GaussianProcesses.jl\n",
    "- Changepoints.jl"
   ]
  },
  {
   "cell_type": "markdown",
   "metadata": {
    "slideshow": {
     "slide_type": "slide"
    }
   },
   "source": [
    "# Getting Started"
   ]
  },
  {
   "cell_type": "markdown",
   "metadata": {
    "slideshow": {
     "slide_type": "slide"
    }
   },
   "source": [
    "# Environments\n",
    "- Terminal\n",
    "- Jupyter notebook\n",
    "- Emacs or Vim\n",
    "- Juno"
   ]
  },
  {
   "cell_type": "markdown",
   "metadata": {
    "slideshow": {
     "slide_type": "slide"
    }
   },
   "source": [
    "![Juno screenshot](juno_screenshot.png)"
   ]
  },
  {
   "cell_type": "markdown",
   "metadata": {
    "slideshow": {
     "slide_type": "slide"
    }
   },
   "source": [
    "# Julia Installation\n",
    "\n",
    "Installers available for Windows, OS X, and all major Linux distributions\n",
    "\n",
    "Detailed installation instructions can be found at http://julialang.org/downloads/platform.html\n"
   ]
  },
  {
   "cell_type": "markdown",
   "metadata": {
    "slideshow": {
     "slide_type": "slide"
    }
   },
   "source": [
    "# More information\n",
    "\n",
    "- Interactive tutorials at http://juliabox.org\n",
    "- Full language reference available at http://julialang.org\n",
    "- Limited places at STOR-i Julia workshop 9th-10th June"
   ]
  },
  {
   "cell_type": "markdown",
   "metadata": {
    "slideshow": {
     "slide_type": "slide"
    }
   },
   "source": [
    "# Conclusions\n",
    "- Julia is an high-level programming language with speeds comparable to C\n",
    "- Julia has a very intuitive syntax, borrowing from other languages like Python or R\n",
    "- A plethora of packages for stats and OR already available"
   ]
  },
  {
   "cell_type": "markdown",
   "metadata": {
    "slideshow": {
     "slide_type": "fragment"
    }
   },
   "source": [
    "# Limitations"
   ]
  },
  {
   "cell_type": "markdown",
   "metadata": {
    "collapsed": false,
    "scrolled": true
   },
   "source": [
    "- Julia is under continuing development and the language is changing\n",
    "- JIT means package load times can be long, but this is improving with the introduction with package caching\n",
    "- Package base not as well-developed as R or Matlab, but quickly growing"
   ]
  }
 ],
 "metadata": {
  "celltoolbar": "Slideshow",
  "kernelspec": {
   "display_name": "Julia 0.4.2",
   "language": "julia",
   "name": "julia-0.4"
  },
  "language_info": {
   "file_extension": ".jl",
   "mimetype": "application/julia",
   "name": "julia",
   "version": "0.4.2"
  }
 },
 "nbformat": 4,
 "nbformat_minor": 0
}
